{
 "cells": [
  {
   "cell_type": "code",
   "execution_count": 84,
   "metadata": {},
   "outputs": [
    {
     "name": "stdout",
     "output_type": "stream",
     "text": [
      "Moviepy - Building video Ours2.mp4.\n",
      "Moviepy - Writing video Ours2.mp4\n",
      "\n"
     ]
    },
    {
     "name": "stderr",
     "output_type": "stream",
     "text": [
      "                                                   \r"
     ]
    },
    {
     "name": "stdout",
     "output_type": "stream",
     "text": [
      "Moviepy - Done !\n",
      "Moviepy - video ready Ours2.mp4\n"
     ]
    }
   ],
   "source": [
    "from PIL import Image\n",
    "from moviepy.editor import ImageSequenceClip\n",
    "import os\n",
    "import numpy as np\n",
    "\n",
    "# === 参数设置 ===\n",
    "image_folder = '/Users/QuanjianSong/Desktop/AAAI2025_UniVST/supplementary_materials/ours1/horsejump-high_00041'         # 你的图片文件夹\n",
    "output_video = 'Ours2.mp4'          # 输出视频路径\n",
    "fps = 8                                   # 帧率\n",
    "max_images = 16                            # 处理前16张\n",
    "resize_size = (512, 512)                   # 目标尺寸\n",
    "\n",
    "# === 获取图片路径列表 ===\n",
    "image_paths = sorted([\n",
    "    os.path.join(image_folder, fname)\n",
    "    for fname in os.listdir(image_folder)\n",
    "    if fname.lower().endswith(('.jpg', '.jpeg', '.png'))\n",
    "])[:max_images]\n",
    "\n",
    "# === Resize 图片并保存为临时帧列表 ===\n",
    "resized_frames = []\n",
    "for path in image_paths:\n",
    "    img = Image.open(path).convert(\"RGB\")\n",
    "    img = img.resize(resize_size, Image.BILINEAR)\n",
    "    resized_frames.append(img)\n",
    "\n",
    "# === 将 PIL 图片转换为 numpy 数组序列（moviepy 需要）===\n",
    "frames_np = [np.array(frame) for frame in resized_frames]\n",
    "\n",
    "# === 用 moviepy 合成视频 ===\n",
    "clip = ImageSequenceClip(frames_np, fps=fps)\n",
    "clip.write_videofile(output_video, codec='libx264')\n"
   ]
  },
  {
   "cell_type": "code",
   "execution_count": 80,
   "metadata": {},
   "outputs": [
    {
     "name": "stdout",
     "output_type": "stream",
     "text": [
      "Moviepy - Building video concat.mp4.\n",
      "Moviepy - Writing video concat.mp4\n",
      "\n"
     ]
    },
    {
     "name": "stderr",
     "output_type": "stream",
     "text": [
      "                                                   "
     ]
    },
    {
     "name": "stdout",
     "output_type": "stream",
     "text": [
      "Moviepy - Done !\n",
      "Moviepy - video ready concat.mp4\n"
     ]
    },
    {
     "name": "stderr",
     "output_type": "stream",
     "text": [
      "\r"
     ]
    }
   ],
   "source": [
    "from moviepy.editor import VideoFileClip, clips_array\n",
    "\n",
    "# 加载两个视频\n",
    "clip1 = VideoFileClip(\"projects/UniVST/static/videos/ours/single/case6/Origin.mp4\").resize((512, 512))\n",
    "clip2 = VideoFileClip(\"projects/UniVST/static/videos/ours/single/case6/Ours.mp4\").resize((512, 512))\n",
    "\n",
    "# 横向拼接\n",
    "final_clip = clips_array([[clip1, clip2]])\n",
    "\n",
    "# 输出合成视频\n",
    "final_clip.write_videofile(\"concat.mp4\", codec=\"libx264\")\n"
   ]
  }
 ],
 "metadata": {
  "kernelspec": {
   "display_name": "pytorch",
   "language": "python",
   "name": "python3"
  },
  "language_info": {
   "codemirror_mode": {
    "name": "ipython",
    "version": 3
   },
   "file_extension": ".py",
   "mimetype": "text/x-python",
   "name": "python",
   "nbconvert_exporter": "python",
   "pygments_lexer": "ipython3",
   "version": "3.1.0"
  }
 },
 "nbformat": 4,
 "nbformat_minor": 2
}
